{
 "cells": [
  {
   "cell_type": "markdown",
   "metadata": {},
   "source": [
    "# **PHASE 4 PROJECT: Natural Language Processing (NLP)**\n",
    "\n",
    "## **Sentiment Analysis of Apple Tweets**\n",
    "\n",
    "### **Understanding Public Perception: Sentiment Analysis of Apple Tweets**\n",
    "\n",
    "In this project, I explored how people feel about Apple products by analyzing sentiment in tweets using Natural Language Processing (NLP). The dataset, sourced from CrowdFlower via data.world, contains **3,886 human-labeled tweets** categorized as positive, negative, or neutral. My goal was to build a machine learning model capable of accurately classifying tweet sentiment based on its content, allowing Apple to gauge customer reactions, monitor brand perception, and respond proactively to user feedback.\n",
    "\n",
    "---\n",
    "\n",
    "## 1. Business Understanding\n",
    "\n",
    "### **Objective:**  \n",
    "The goal of this project is to build an **NLP model** that can analyze **Twitter sentiment** regarding **Apple and Google products**. The dataset contains **over 3,886 Tweets**, each labeled by human raters as **positive, negative, or neutral**. The model will classify new Tweets based on their sentiment, helping businesses understand **public perception and customer sentiment trends**.\n",
    "\n",
    "### **Key Questions & Answers:**\n",
    "\n",
    "#### **What is the goal of this project?**  \n",
    "- To develop a **sentiment classification model** that can automatically **rate the sentiment of Tweets** related to Apple and Google products.\n",
    "- The model should be able to **identify positive, negative, or neutral sentiments** from textual data.\n",
    "- The project aims to provide a **proof of concept**, starting with a simple **binary classifier (positive vs. negative)** and then expanding to a **multiclass classifier (positive, neutral, negative)**.\n",
    "\n",
    "#### **What insights will be gained?**  \n",
    "- **Brand Perception:** How do users feel about Apple and Google products on social media?  \n",
    "- **Customer Pain Points:** What negative aspects are frequently mentioned?  \n",
    "- **Market Trends:** Are there specific events or product launches that trigger sentiment shifts?  \n",
    "- **Comparative Analysis:** Which brand has better sentiment overall? Are there specific product categories where one brand outperforms the other in public perception?  \n",
    "- **Influence of Tweet Content:** Which words or phrases contribute most to each sentiment category?  \n",
    "\n",
    "#### **How will the results be used in decision-making?**  \n",
    "- **Marketing Strategy:** Brands can adjust their marketing campaigns based on sentiment trends.  \n",
    "- **Customer Support Prioritization:** If negative sentiment spikes, companies can proactively address issues.  \n",
    "- **Product Improvement:** Insights from common complaints can guide product development.  \n",
    "- **Competitive Analysis:** Apple and Google can compare their sentiment scores to see which brand is performing better in public perception.  \n",
    "- **Crisis Management:** Early detection of negative sentiment trends can help mitigate PR disasters.  \n",
    "\n",
    "\n",
    "---\n",
    "\n",
    "## **2. Data Preparation**\n",
    "Text preprocessing included:\n",
    "- Removal of punctuation, special characters, and URLs.\n",
    "- Tokenization and lowercasing of words.\n",
    "- Stopword removal to reduce noise.\n",
    "- Lemmatization for standardizing word forms.\n",
    "- Feature extraction using TF-IDF Vectorization.\n",
    "\n",
    "Python libraries used: `NLTK`, `scikit-learn`, and `pandas` for text processing and feature engineering.\n",
    "\n",
    "---\n",
    "\n",
    "## **3. Model Training**\n",
    "- The dataset was split into **80% training and 20% testing**.\n",
    "- Class imbalance was addressed using **SMOTE (Synthetic Minority Over-sampling Technique)**.\n",
    "- The following models were trained and optimized:\n",
    "  - **Naïve Bayes (MultinomialNB)** with hyperparameter tuning (`alpha` values: 0.1, 0.5, 1.0).\n",
    "  - **Logistic Regression** with `MaxAbsScaler` normalization and hyperparameter tuning (`C` values: [0.0001, 0.001, 0.01, 0.1, 1]).\n",
    "  - **Support Vector Machine (SVM)** with a linear kernel, `MaxAbsScaler`, and hyperparameter tuning (`C` values: [0.0001, 0.001, 0.01, 0.1, 1, 10]).\n",
    "\n",
    "---\n",
    "\n",
    "## **4. Model Evaluation**\n",
    "### **Accuracy Scores**\n",
    "- **Naïve Bayes:** 0.70\n",
    "- **Logistic Regression:** 0.75\n",
    "- **SVM:** 0.72\n",
    "\n",
    "### **Classification Report (Logistic Regression)**\n",
    "| Sentiment  | Precision | Recall | F1-score |\n",
    "|------------|-----------|--------|----------|\n",
    "| **Negative** | 0.71 | 0.73 | 0.72 |\n",
    "| **Neutral** | 0.61 | 0.39 | 0.48 |\n",
    "| **Positive** | 0.78 | 0.83 | 0.81 |\n",
    "| **Macro Avg** | 0.70 | 0.65 | 0.67 |\n",
    "| **Weighted Avg** | 0.74 | 0.75 | 0.74 |\n",
    "\n",
    "### **Confusion Matrix**\n",
    "- The **neutral class** had the lowest recall (0.39), indicating it was the hardest to classify.\n",
    "\n",
    "### **AUC-ROC Score**\n",
    "- **Logistic Regression AUC-ROC:** 0.84 (suggesting good separability despite lower accuracy).\n",
    "\n",
    "---\n",
    "\n",
    "## **5. Best Performing Model**\n",
    "### **Logistic Regression**\n",
    "#### **Reasons:**\n",
    "1. **Highest Accuracy:** 0.75 (compared to 0.70 for Naïve Bayes and 0.72 for SVM).\n",
    "2. **Strong Precision & Recall:** Particularly for the **positive** and **negative** classes.\n",
    "3. **Best AUC-ROC Score:** 0.84, indicating better class separability.\n",
    "\n",
    "However, the **neutral class** remains the hardest to classify (low recall of 0.39). \n",
    "\n",
    "---\n",
    "\n",
    "## **6. Limitations & Recommendations**\n",
    "### **Challenges**\n",
    "- Handling ambiguous tweets, sarcasm, and irrelevant content remains difficult.\n",
    "\n",
    "### **Future Improvements**\n",
    "- Adjust class weights (`class_weight='balanced'`) in Logistic Regression.\n",
    "- Experiment with **TF-IDF** instead of Count Vectorizer.\n",
    "- Use an ensemble approach, such as **Logistic Regression + SVM**.\n",
    "- Explore **deep learning** methods like LSTMs or transformers (BERT, RoBERTa).\n",
    "- Deploy the model as an **API for real-time sentiment analysis**.\n",
    "\n",
    "Through this project, I gained valuable insights into the power of NLP for sentiment classification, showcasing how businesses like Apple can leverage social media data to refine their strategies and better understand their customers. By refining model performance and expanding feature engineering, this approach can be scaled for broader applications in social media analysis.\n"
   ]
  },
  {
   "cell_type": "markdown",
   "metadata": {},
   "source": [
    "## **1. Import the required libraries.**"
   ]
  },
  {
   "cell_type": "code",
   "execution_count": 1,
   "metadata": {},
   "outputs": [
    {
     "name": "stderr",
     "output_type": "stream",
     "text": [
      "[nltk_data] Downloading package punkt to\n",
      "[nltk_data]     C:\\Users\\LENOVO\\AppData\\Roaming\\nltk_data...\n",
      "[nltk_data]   Package punkt is already up-to-date!\n",
      "[nltk_data] Downloading package stopwords to\n",
      "[nltk_data]     C:\\Users\\LENOVO\\AppData\\Roaming\\nltk_data...\n",
      "[nltk_data]   Package stopwords is already up-to-date!\n"
     ]
    }
   ],
   "source": [
    "import pandas as pd  \n",
    "import numpy as np \n",
    "import matplotlib.pyplot as plt  \n",
    "import seaborn as sns \n",
    "from sklearn.pipeline import Pipeline\n",
    "from sklearn.model_selection import train_test_split, GridSearchCV\n",
    "from sklearn.metrics import accuracy_score, confusion_matrix, ConfusionMatrixDisplay\n",
    "import nltk\n",
    "import re  \n",
    "nltk.download('punkt')\n",
    "from nltk.tokenize import word_tokenize\n",
    "nltk.download('stopwords')\n",
    "from nltk.corpus import stopwords\n",
    "from nltk.stem import SnowballStemmer \n",
    "from sklearn.feature_extraction.text import TfidfVectorizer\n",
    "from sklearn.naive_bayes import MultinomialNB\n"
   ]
  },
  {
   "cell_type": "markdown",
   "metadata": {},
   "source": [
    " ## **2. Loading and reading the CSV file/dataset.**"
   ]
  },
  {
   "cell_type": "code",
   "execution_count": 2,
   "metadata": {},
   "outputs": [
    {
     "name": "stdout",
     "output_type": "stream",
     "text": [
      "    _unit_id  _golden _unit_state  _trusted_judgments _last_judgment_at  \\\n",
      "0  623495513     True      golden                  10               NaN   \n",
      "1  623495514     True      golden                  12               NaN   \n",
      "2  623495515     True      golden                  10               NaN   \n",
      "3  623495516     True      golden                  17               NaN   \n",
      "4  623495517    False   finalized                   3    12/12/14 12:14   \n",
      "\n",
      "  sentiment  sentiment:confidence                            date  \\\n",
      "0         3                0.6264  Mon Dec 01 19:30:03 +0000 2014   \n",
      "1         3                0.8129  Mon Dec 01 19:43:51 +0000 2014   \n",
      "2         3                1.0000  Mon Dec 01 19:50:28 +0000 2014   \n",
      "3         3                0.5848  Mon Dec 01 20:26:34 +0000 2014   \n",
      "4         3                0.6474  Mon Dec 01 20:29:33 +0000 2014   \n",
      "\n",
      "             id            query   sentiment_gold  \\\n",
      "0  5.400000e+17  #AAPL OR @Apple  3\\nnot_relevant   \n",
      "1  5.400000e+17  #AAPL OR @Apple             3\\n1   \n",
      "2  5.400000e+17  #AAPL OR @Apple                3   \n",
      "3  5.400000e+17  #AAPL OR @Apple             3\\n1   \n",
      "4  5.400000e+17  #AAPL OR @Apple              NaN   \n",
      "\n",
      "                                                text  \n",
      "0  #AAPL:The 10 best Steve Jobs emails ever...htt...  \n",
      "1  RT @JPDesloges: Why AAPL Stock Had a Mini-Flas...  \n",
      "2  My cat only chews @apple cords. Such an #Apple...  \n",
      "3  I agree with @jimcramer that the #IndividualIn...  \n",
      "4       Nobody expects the Spanish Inquisition #AAPL  \n"
     ]
    }
   ],
   "source": [
    "# Load dataset \n",
    "df = pd.read_csv(\"Apple-Twitter-Sentiment-DFE.csv\", encoding=\"ISO-8859-1\")\n",
    "\n",
    "# Display the first few rows\n",
    "print(df.head())\n"
   ]
  },
  {
   "cell_type": "markdown",
   "metadata": {},
   "source": [
    "## **3. Inspecting and understanding our data.**"
   ]
  },
  {
   "cell_type": "code",
   "execution_count": 3,
   "metadata": {},
   "outputs": [
    {
     "name": "stdout",
     "output_type": "stream",
     "text": [
      "<class 'pandas.core.frame.DataFrame'>\n",
      "RangeIndex: 3886 entries, 0 to 3885\n",
      "Data columns (total 12 columns):\n",
      " #   Column                Non-Null Count  Dtype  \n",
      "---  ------                --------------  -----  \n",
      " 0   _unit_id              3886 non-null   int64  \n",
      " 1   _golden               3886 non-null   bool   \n",
      " 2   _unit_state           3886 non-null   object \n",
      " 3   _trusted_judgments    3886 non-null   int64  \n",
      " 4   _last_judgment_at     3783 non-null   object \n",
      " 5   sentiment             3886 non-null   object \n",
      " 6   sentiment:confidence  3886 non-null   float64\n",
      " 7   date                  3886 non-null   object \n",
      " 8   id                    3886 non-null   float64\n",
      " 9   query                 3886 non-null   object \n",
      " 10  sentiment_gold        103 non-null    object \n",
      " 11  text                  3886 non-null   object \n",
      "dtypes: bool(1), float64(2), int64(2), object(7)\n",
      "memory usage: 337.9+ KB\n"
     ]
    },
    {
     "data": {
      "text/plain": [
       "sentiment\n",
       "3               2162\n",
       "1               1219\n",
       "5                423\n",
       "not_relevant      82\n",
       "Name: count, dtype: int64"
      ]
     },
     "execution_count": 3,
     "metadata": {},
     "output_type": "execute_result"
    }
   ],
   "source": [
    "# Check the first few rows\n",
    "df.head()\n",
    "\n",
    "# Check column names and data types\n",
    "df.info()\n",
    "\n",
    "# Check for missing values\n",
    "df.isnull().sum()\n",
    "\n",
    "# Check class distribution\n",
    "df['sentiment'].value_counts()\n"
   ]
  },
  {
   "cell_type": "markdown",
   "metadata": {},
   "source": [
    "## Key Observations About the Dataset\n",
    "\n",
    "- The dataset contains **3,886 tweets**.  \n",
    "- The **\"sentiment\"** column is the target variable.  \n",
    "- There are **four unique sentiment labels**:  \n",
    "  - **3** → Most likely \"Positive\"  \n",
    "  - **1** → Most likely \"Negative\"  \n",
    "  - **5** → Most likely \"Neutral\"  \n",
    "  - **not_relevant** → Irrelevant tweets  \n",
    "- The **\"text\"** column contains the actual tweets.  \n",
    "- The **\"sentiment_gold\"** column is mostly missing (only 103 values), making it **not useful**.  \n",
    "- Several columns are **irrelevant** for sentiment analysis, such as:  \n",
    "  - `_unit_id`, `_trusted_judgments`, `_unit_state`, `_golden`, `_last_judgment_at`, etc.  \n"
   ]
  },
  {
   "cell_type": "markdown",
   "metadata": {},
   "source": [
    "## **4. Data Preprocessing (Text Cleaning & Tokenization)**\n",
    "To ensure that tweets are properly analyzed, we applied **lemmatization** instead of stemming. \n",
    "Lemmatization helps preserve the root meaning of words, which improves sentiment classification accuracy.\n"
   ]
  },
  {
   "cell_type": "markdown",
   "metadata": {},
   "source": [
    "### 4.1 Drop Unnecessary Columns.\n"
   ]
  },
  {
   "cell_type": "code",
   "execution_count": 4,
   "metadata": {},
   "outputs": [
    {
     "name": "stdout",
     "output_type": "stream",
     "text": [
      "  sentiment                                               text\n",
      "0         3  #AAPL:The 10 best Steve Jobs emails ever...htt...\n",
      "1         3  RT @JPDesloges: Why AAPL Stock Had a Mini-Flas...\n",
      "2         3  My cat only chews @apple cords. Such an #Apple...\n",
      "3         3  I agree with @jimcramer that the #IndividualIn...\n",
      "4         3       Nobody expects the Spanish Inquisition #AAPL\n"
     ]
    }
   ],
   "source": [
    "# Drop irrelevant columns\n",
    "df.drop(columns=['_unit_id', '_golden', '_unit_state', '_trusted_judgments', '_last_judgment_at', \n",
    "                 'sentiment:confidence', 'date', 'id', 'query', 'sentiment_gold'], inplace=True)\n",
    "\n",
    "# Check new dataframe structure\n",
    "print(df.head())\n"
   ]
  },
  {
   "cell_type": "markdown",
   "metadata": {},
   "source": [
    "### 4.2 Handle Missing & Incorrect Values."
   ]
  },
  {
   "cell_type": "code",
   "execution_count": 5,
   "metadata": {},
   "outputs": [
    {
     "name": "stdout",
     "output_type": "stream",
     "text": [
      "sentiment\n",
      "positive    2162\n",
      "negative    1219\n",
      "neutral      423\n",
      "Name: count, dtype: int64\n"
     ]
    }
   ],
   "source": [
    "# Drop rows where sentiment is \"not_relevant\"\n",
    "df = df[df[\"sentiment\"] != \"not_relevant\"]\n",
    "\n",
    "# Convert sentiment labels to readable names\n",
    "sentiment_map = {\"3\": \"positive\", \"1\": \"negative\", \"5\": \"neutral\"}\n",
    "df[\"sentiment\"] = df[\"sentiment\"].map(sentiment_map)\n",
    "\n",
    "# Verify class distribution\n",
    "print(df[\"sentiment\"].value_counts())\n"
   ]
  },
  {
   "cell_type": "markdown",
   "metadata": {},
   "source": [
    "### 4.3 Clean, Process the Text and convert text into TF-DF features (Numerical features)."
   ]
  },
  {
   "cell_type": "code",
   "execution_count": 6,
   "metadata": {},
   "outputs": [
    {
     "name": "stderr",
     "output_type": "stream",
     "text": [
      "[nltk_data] Downloading package punkt to\n",
      "[nltk_data]     C:\\Users\\LENOVO\\AppData\\Roaming\\nltk_data...\n",
      "[nltk_data]   Package punkt is already up-to-date!\n",
      "[nltk_data] Downloading package stopwords to\n",
      "[nltk_data]     C:\\Users\\LENOVO\\AppData\\Roaming\\nltk_data...\n",
      "[nltk_data]   Package stopwords is already up-to-date!\n",
      "[nltk_data] Downloading package wordnet to\n",
      "[nltk_data]     C:\\Users\\LENOVO\\AppData\\Roaming\\nltk_data...\n",
      "[nltk_data]   Package wordnet is already up-to-date!\n"
     ]
    }
   ],
   "source": [
    "import re   \n",
    "import nltk\n",
    "nltk.download('punkt')\n",
    "nltk.download('stopwords')\n",
    "nltk.download('wordnet')  # Download WordNet for lemmatization\n",
    "\n",
    "from nltk.tokenize import word_tokenize\n",
    "from nltk.corpus import stopwords\n",
    "from nltk.stem import WordNetLemmatizer\n",
    "from sklearn.feature_extraction.text import TfidfVectorizer\n",
    "\n",
    "# Initialize stopwords and lemmatizer\n",
    "stop_words = set(stopwords.words('english'))\n",
    "lemmatizer = WordNetLemmatizer()\n",
    "\n",
    "# Function for text cleaning\n",
    "def clean_text(text):\n",
    "    if isinstance(text, float):  # Handle missing values\n",
    "        return \"\"\n",
    "    text = text.lower()  # Convert to lowercase\n",
    "    text = re.sub(r\"http\\S+|www\\S+\", \"\", text)  # Remove URLs\n",
    "    text = re.sub(r\"[^a-zA-Z\\s]\", \"\", text)  # Remove special characters\n",
    "    words = word_tokenize(text)  # Tokenize\n",
    "    words = [lemmatizer.lemmatize(word) for word in words if word not in stop_words]  # Remove stopwords & lemmatize\n",
    "    return \" \".join(words)\n",
    "\n",
    "# Apply function to dataset\n",
    "df[\"clean_text\"] = df[\"text\"].apply(clean_text)\n",
    "\n",
    "# Convert text into TF-IDF features\n",
    "vectorizer = TfidfVectorizer(max_features=5000)  # Limit vocabulary size\n",
    "X = vectorizer.fit_transform(df[\"clean_text\"])\n",
    "y = df[\"sentiment\"]  # Target variable\n",
    "\n"
   ]
  },
  {
   "cell_type": "markdown",
   "metadata": {},
   "source": [
    "## **5. Model Training.**\n",
    "## Model Training Steps\n",
    "\n",
    "### 1. Data Splitting\n",
    "- The dataset is split into training (80%) and testing (20%) sets using `train_test_split()`.\n",
    "\n",
    "### 2. Handling Class Imbalance\n",
    "- The training data is resampled using **SMOTE** (Synthetic Minority Over-sampling Technique) to balance class distribution.\n",
    "\n",
    "### 3. Model Selection & Hyperparameter Tuning\n",
    "\n",
    "#### **Naïve Bayes (MultinomialNB)**\n",
    "- Since Multinomial Naïve Bayes does not require feature scaling, it is trained directly.\n",
    "- A grid search (`GridSearchCV`) is performed over different values of `alpha` (0.1, 0.5, 1.0) to find the best hyperparameter.\n",
    "\n",
    "#### **Logistic Regression**\n",
    "- **Feature Scaling:** `MaxAbsScaler` is used to normalize the feature values.\n",
    "- A **pipeline** is created to apply scaling followed by **Logistic Regression**.\n",
    "- A grid search is conducted over different values of **C** ([0.0001, 0.001, 0.01, 0.1, 1]) to optimize regularization.\n",
    "\n",
    "#### **Support Vector Machine (SVM)**\n",
    "- **Feature Scaling:** `MaxAbsScaler` is applied similarly.\n",
    "- An SVM with a **linear kernel** is trained.\n",
    "- Grid search is performed over different values of **C** ([0.0001, 0.001, 0.01, 0.1, 1, 10]) to optimize model performance.\n",
    "\n",
    "\n",
    "- After training, the best hyperparameters for each model are extracted and displayed:\n",
    "  - **Best Naïve Bayes Alpha**\n",
    "  - **Best Logistic Regression C**\n",
    "  - **Best SVM C**\n"
   ]
  },
  {
   "cell_type": "code",
   "execution_count": null,
   "metadata": {},
   "outputs": [],
   "source": [
    "from sklearn.preprocessing import StandardScaler, MaxAbsScaler\n",
    "from sklearn.pipeline import Pipeline\n",
    "from sklearn.model_selection import train_test_split, GridSearchCV\n",
    "from sklearn.naive_bayes import MultinomialNB\n",
    "from sklearn.linear_model import LogisticRegression\n",
    "from sklearn.svm import SVC\n",
    "from imblearn.over_sampling import SMOTE  # Import SMOTE for handling imbalance\n",
    "\n",
    "# Split dataset into train & test (80% train, 20% test)\n",
    "X_train, X_test, y_train, y_test = train_test_split(X, y, test_size=0.2, random_state=42)\n",
    "\n",
    "# Apply SMOTE to handle class imbalance\n",
    "smote = SMOTE(sampling_strategy='auto', random_state=42)\n",
    "X_train, y_train = smote.fit_resample(X_train, y_train)\n",
    "\n",
    "# Train & Tune Naïve Bayes Model (No Scaling Needed)\n",
    "param_grid_nb = {\"alpha\": [0.1, 0.5, 1.0]}\n",
    "grid_nb = GridSearchCV(MultinomialNB(), param_grid_nb, cv=5, n_jobs=-1)\n",
    "grid_nb.fit(X_train, y_train)\n",
    "best_nb = grid_nb.best_estimator_\n",
    "\n",
    "#  Train & Tune Logistic Regression Model (With Standardization)\n",
    "pipeline_lr = Pipeline([\n",
    "    ('scaler', MaxAbsScaler()),  # Standardize the data\n",
    "    ('classifier', LogisticRegression(max_iter=10000, solver='lbfgs', class_weight='balanced', tol=1e-4))  # Increased max_iter, changed solver, adjusted tolerance\n",
    "])\n",
    "\n",
    "param_grid_lr = {'classifier__C': [0.0001, 0.001, 0.01, 0.1, 1]}\n",
    "grid_lr = GridSearchCV(pipeline_lr, param_grid_lr, cv=5, n_jobs=-1)\n",
    "grid_lr.fit(X_train, y_train)\n",
    "best_lr = grid_lr.best_estimator_\n",
    "\n",
    "#  Train & Tune Support Vector Machine (SVM) with Standardization\n",
    "pipeline_svm = Pipeline([\n",
    "    ('scaler', MaxAbsScaler()),\n",
    "    ('classifier', SVC(kernel='linear', probability=True))\n",
    "])\n",
    "\n",
    "param_grid_svm = {'classifier__C': [0.0001, 0.001, 0.01, 0.1, 1, 10]}\n",
    "grid_svm = GridSearchCV(pipeline_svm, param_grid_svm, cv=5, n_jobs=-1)\n",
    "grid_svm.fit(X_train, y_train)\n",
    "best_svm = grid_svm.best_estimator_\n",
    "\n",
    "# Print Best Parameters for All Models\n",
    "print(\"Best Naïve Bayes Alpha:\", grid_nb.best_params_[\"alpha\"])\n",
    "print(\"Best Logistic Regression C:\", grid_lr.best_params_[\"classifier__C\"])\n",
    "print(\"Best SVM C:\", grid_svm.best_params_[\"classifier__C\"])\n"
   ]
  },
  {
   "cell_type": "markdown",
   "metadata": {},
   "source": [
    "## **7. Model Evaluation.**\n",
    "### Use accuracy, confusion matrix, and classification report, roc-auc-score\n",
    "\n",
    "## Model Evaluation\n",
    "\n",
    "### 1. Accuracy Scores\n",
    "- **Naïve Bayes:** 0.70\n",
    "- **Logistic Regression:** 0.75\n",
    "- **SVM:** 0.72\n",
    "\n",
    "### 2. Classification Report (Logistic Regression)\n",
    "- **Negative:** Precision 0.71, Recall 0.73, F1-score 0.72\n",
    "- **Neutral:** Precision 0.61, Recall 0.39, F1-score 0.48\n",
    "- **Positive:** Precision 0.78, Recall 0.83, F1-score 0.81\n",
    "- **Macro Avg:** Precision 0.70, Recall 0.65, F1-score 0.67\n",
    "- **Weighted Avg:** Precision 0.74, Recall 0.75, F1-score 0.74\n",
    "\n",
    "### 3. Confusion Matrix\n",
    "- The confusion matrix is visualized using a **confusion matrix display** for better interpretability.\n",
    "- The **neutral class** has the lowest recall (0.39), indicating it is the hardest to classify.\n",
    "\n",
    "### 4. AUC-ROC Score\n",
    "- **Logistic Regression AUC-ROC:** 0.84 (suggesting good separability despite lower accuracy).\n",
    "\n",
    "## Best Performing Model\n",
    "\n",
    "### **Logistic Regression**\n",
    "#### **Reasons:**\n",
    "1. **Highest Accuracy:** 0.75 (compared to 0.70 for Naïve Bayes and 0.72 for SVM).\n",
    "2. **Strong Precision & Recall:** Particularly for the **positive** and **negative** classes.\n",
    "3. **Best AUC-ROC Score:** 0.84, indicating better/superior class separability.\n",
    "\n",
    "However, the **neutral class** remains the hardest to classify (low recall of 0.39) as seen in the confusion matrix.\n",
    "\n",
    "\n"
   ]
  },
  {
   "cell_type": "markdown",
   "metadata": {},
   "source": [
    "#### Confusion Matrix Visualization."
   ]
  },
  {
   "cell_type": "code",
   "execution_count": null,
   "metadata": {},
   "outputs": [
    {
     "name": "stdout",
     "output_type": "stream",
     "text": [
      "Naïve Bayes Accuracy: 0.70\n",
      "Logistic Regression Accuracy: 0.75\n",
      "SVM Accuracy: 0.72\n",
      "\n",
      "Logistic Regression Classification Report:\n",
      "              precision    recall  f1-score   support\n",
      "\n",
      "    negative       0.71      0.73      0.72       238\n",
      "     neutral       0.61      0.39      0.48        94\n",
      "    positive       0.78      0.83      0.81       429\n",
      "\n",
      "    accuracy                           0.75       761\n",
      "   macro avg       0.70      0.65      0.67       761\n",
      "weighted avg       0.74      0.75      0.74       761\n",
      "\n",
      "Logistic Regression AUC-ROC: 0.84\n"
     ]
    },
    {
     "data": {
      "image/png": "[encoded data removed]",
      "text/plain": [
       "<Figure size 640x480 with 2 Axes>"
      ]
     },
     "metadata": {},
     "output_type": "display_data"
    }
   ],
   "source": [
    "from sklearn.metrics import accuracy_score, classification_report, confusion_matrix, roc_auc_score, ConfusionMatrixDisplay\n",
    "\n",
    "# Predictions\n",
    "y_pred_nb = best_nb.predict(X_test)\n",
    "y_pred_lr = best_lr.predict(X_test)\n",
    "y_pred_svm = best_svm.predict(X_test)\n",
    "\n",
    "# Accuracy\n",
    "print(f\"Naïve Bayes Accuracy: {accuracy_score(y_test, y_pred_nb):.2f}\")\n",
    "print(f\"Logistic Regression Accuracy: {accuracy_score(y_test, y_pred_lr):.2f}\")\n",
    "print(f\"SVM Accuracy: {accuracy_score(y_test, y_pred_svm):.2f}\")\n",
    "\n",
    "# Classification Report for Logistic Regression\n",
    "print(\"\\nLogistic Regression Classification Report:\")\n",
    "print(classification_report(y_test, y_pred_lr))\n",
    "\n",
    "# Confusion Matrix Visualization\n",
    "cm_lr = confusion_matrix(y_test, y_pred_lr)\n",
    "disp_lr = ConfusionMatrixDisplay(confusion_matrix=cm_lr)\n",
    "disp_lr.plot(cmap=\"Blues\")\n",
    "\n",
    "# AUC-ROC Score for Logistic Regression\n",
    "y_prob_lr = best_lr.predict_proba(X_test)\n",
    "roc_score_lr = roc_auc_score(y_test, y_prob_lr, multi_class=\"ovr\")\n",
    "print(f\"Logistic Regression AUC-ROC: {roc_score_lr:.2f}\")\n"
   ]
  },
  {
   "cell_type": "markdown",
   "metadata": {},
   "source": [
    "## **8. Save the Model for Deployment**"
   ]
  },
  {
   "cell_type": "code",
   "execution_count": null,
   "metadata": {},
   "outputs": [],
   "source": [
    "import pickle\n",
    "\n",
    "# Save model\n",
    "with open(\"sentiment_model.pkl\", \"wb\") as model_file:\n",
    "    pickle.dump(best_model, model_file)\n",
    "\n",
    "# Save vectorizer\n",
    "with open(\"vectorizer.pkl\", \"wb\") as vec_file:\n",
    "    pickle.dump(vectorizer, vec_file)\n"
   ]
  },
  {
   "cell_type": "markdown",
   "metadata": {},
   "source": [
    "## **9. Conclusion & Recommendations**\n",
    "\n",
    "### **Conclusion**\n",
    "This project successfully built and evaluated a sentiment analysis model that can classify tweets about Apple products as **positive, negative, or neutral** based on their content. After testing multiple models, **Logistic Regression** emerged as the best-performing approach, achieving **75% accuracy** and an **AUC-ROC score of 0.84**.  \n",
    "\n",
    "Key findings:\n",
    "- **Positive and negative tweets** were classified with good precision and recall.\n",
    "- **Neutral tweets** were the hardest to classify accurately, with a recall of only 39%.\n",
    "- **TF-IDF vectorization and Logistic Regression** provided a strong baseline model.\n",
    "\n",
    "While the model performs well, challenges like **sarcasm, ambiguity, and short-text limitations** remain. Further improvements can help refine sentiment classification.\n",
    "\n",
    "---\n",
    "\n",
    "### **Recommendations**\n",
    "To enhance model performance and achieve more accurate sentiment classification, the following steps are recommended:\n",
    "\n",
    "1. **Improve Data Preprocessing**\n",
    "   - Use **emoji and slang dictionaries** to capture informal language in tweets.\n",
    "   - Implement **named entity recognition (NER)** to understand references to Apple products.\n",
    "   - Expand the dataset with **more labeled examples**, especially for the **neutral** class, to improve classification balance.\n",
    "\n",
    "2. **Feature Engineering Enhancements**\n",
    "   - Explore **word embeddings (Word2Vec, GloVe, or BERT)** instead of TF-IDF for better contextual understanding.\n",
    "   - Incorporate **bigram/trigram features** to capture phrase-based sentiment.\n",
    "\n",
    "3. **Model Improvements**\n",
    "   - Fine-tune **hyperparameters** and use **ensemble models** (e.g., stacking Logistic Regression and SVM).\n",
    "   - Implement **deep learning models** such as **LSTMs, GRUs, or transformers (BERT, RoBERTa)**.\n",
    "\n",
    "4. **Address Class Imbalance**\n",
    "   - Apply **class weighting** to better handle underrepresented neutral tweets.\n",
    "   - Use **oversampling techniques** like SMOTE or generate synthetic neutral examples.\n",
    "\n",
    "5. **Deploying the Model**\n",
    "   - Package the model as an **API** to analyze real-time tweets.\n",
    "   - Integrate the model with **Apple's social media monitoring tools** to track sentiment trends.\n",
    "\n",
    "By implementing these improvements, the sentiment analysis model can become more robust, accurately capturing how consumers feel about Apple products based on their tweets. This will enable Apple to **monitor brand perception, improve customer engagement, and enhance product strategies** based on real-time feedback.\n"
   ]
  }
 ],
 "metadata": {
  "kernelspec": {
   "display_name": "base",
   "language": "python",
   "name": "python3"
  },
  "language_info": {
   "codemirror_mode": {
    "name": "ipython",
    "version": 3
   },
   "file_extension": ".py",
   "mimetype": "text/x-python",
   "name": "python",
   "nbconvert_exporter": "python",
   "pygments_lexer": "ipython3",
   "version": "3.11.7"
  }
 },
 "nbformat": 4,
 "nbformat_minor": 2
}
